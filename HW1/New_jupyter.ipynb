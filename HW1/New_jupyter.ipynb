{
  "cells": [
    {
      "cell_type": "code",
      "execution_count": null,
      "metadata": {
        "id": "DZCeWfj7EqKG",
        "outputId": "b4d7a030-3310-4dd2-ca43-5b139c06939c"
      },
      "outputs": [
        {
          "data": {
            "text/plain": [
              "Code generation...\n",
              "Done. Elapsed time: 0.26002108 seconds\n",
              "Code compilation...\n",
              "Done. Elapsed time: 0.51868283 seconds\n",
              "Simulation...\n",
              "Done. Elapsed time: 0.020872445 seconds\n"
            ]
          },
          "execution_count": 1,
          "metadata": {},
          "output_type": "execute_result"
        }
      ],
      "source": [
        "//Достаем модель из репозитория\n",
        "var diagram = data.get(\"data/Collaboration/sysbio2025_Chupov/Data/HW1/CD95-NFkB_simple_model\")\n",
        "\n",
        "//Достаем таблицу из репозитория\n",
        "var expData = data.get(\"data/Collaboration/sysbio2025_Chupov/Data/HW1/exp_data_1\");\n",
        "\n",
        "//Задаем сетку времени для расчетов\n",
        "var span = se.createSpan(0, 150, 5);\n",
        "\n",
        "var result = se.simulate(diagram, span);\n",
        "var vals = result.getValues(\"$cell.C8star\")"
      ]
    },
    {
      "cell_type": "code",
      "execution_count": null,
      "metadata": {
        "id": "IFl-EhDvEqKK",
        "outputId": "ce893f3f-c6cf-4280-9d01-66d30e7f4ee4"
      },
      "outputs": [
        {
          "data": {
            "text/plain": [
              "[0.0, 8.94367339536401E-4, 0.013450087772950937, 0.05346239339815275, 0.12757103926311325, 0.2341234775305061, 0.3675129252076716, 0.5211215542151977, 0.6887745656900752, 0.8652928938419079, 1.0465910628732296, 1.229576796536644, 1.4119838274349183, 1.5921993111714574, 1.769110963866326, 1.9419813730959379, 2.110348992970934, 2.2739522624397286, 2.432672524525296, 2.5864916691160724, 2.7354610321130943, 2.8796787608034164, 3.019273473459105, 3.154392558271168, 3.285193868981411, 3.411839893662584, 3.534493715345867, 3.6533162647012425, 3.7684644997197045, 3.8800902467124785, 3.9883395098635948]"
            ]
          },
          "execution_count": 3,
          "metadata": {},
          "output_type": "execute_result"
        }
      ],
      "source": [
        "vals"
      ]
    },
    {
      "cell_type": "code",
      "execution_count": null,
      "metadata": {
        "id": "KGMuwLDlEqKK",
        "outputId": "04c63ce7-96f3-4d5d-8428-1367443fe36f"
      },
      "outputs": [
        {
          "data": {
            "text/plain": [
              "undefined"
            ]
          },
          "execution_count": 2,
          "metadata": {},
          "output_type": "execute_result"
        }
      ],
      "source": [
        "function getArray(tbl, columnName)\n",
        "{\n",
        "    var arr = [];\n",
        "    for(var it = tbl.iterator(); it.hasNext();)\n",
        "    {\n",
        "        var row = it.next();\n",
        "        arr.push(Number(row.getValue(columnName)));\n",
        "    }\n",
        "    return arr;\n",
        "}\n",
        "\n",
        "var casp8_exp = getArray(expData, \"casp8\")\n",
        "var time_exp = getArray(expData, \"time\")"
      ]
    },
    {
      "cell_type": "code",
      "execution_count": null,
      "metadata": {
        "id": "7ANVyle3EqKL"
      },
      "outputs": [],
      "source": [
        "//p43/p41:\n",
        "//k2*$cell.DISC*$cell.C8 напрямую влияет на концентрацию pro8 и DISC, который напрямую влияет на p43/p41. слабо, но сильно влияет на динамику\n",
        "//k5*$cell.DISCC8*$cell.C8 напрямую влияет на p43/p41. сильно\n",
        "//k8*$cell.p43p41*$cell.p43p41 напрямую влияет на casp8, а он сильно влияет на p43/p41. сильно\n",
        "//k11*$cell.C8star влияет напрямую на casp8. слабо, но сильно влияет на динамику\n",
        "\n",
        "//casp8:\n",
        "//k2*$cell.DISC*$cell.C8 напрямую влияет на концентрацию pro8 и DISC, который напрямую влияет на p43/p41. слабо, но сильно влияет на динамику\n",
        "//k5*$cell.DISCC8*$cell.C8 напрямую влияет на p43/p41. сильно\n",
        "//k8*$cell.p43p41*$cell.p43p41 напрямую влияет на casp8, а он влияет на p43/p41. сильно\n",
        "\n",
        "//Прямое влияение на концентрацию:\n",
        "//k5 влияет на p43/p41, потому что в схеме этот коэффицент моделирует реакцию перехода про-каспазы-8 в p43/p41\n",
        "//k8 влияет на casp8, потому что в схеме этот коэффицент моделирует реакцию перехода p43/p41 в активированную каспазу-8\n",
        "//Оба эти коэффицента влияют напрямую на образование p43/p41 и casp8 соответсвенно, а так же изменение p43/p41 напрямую влияет на casp8. Я думаю тут и так\n",
        "//понятно почему у них такой сильный эффект.\n",
        "\n",
        "//Влияение на динамику\n",
        "//k2 влияет на сигналный комплекс DISC, он влияет на активацию эффекторных каспаз.\n",
        "//Стоит упомянуть что эффективаная работа DISC зависит так же от концентрации прокаспаз-8, тот спад который мы видим в динамике p43/p41, может быть обусловлена\n",
        "// быстрым расходованием субстрата (прокаспаза-8)."
      ]
    },
    {
      "cell_type": "code",
      "execution_count": null,
      "metadata": {
        "id": "UzI50Io5EqKL",
        "outputId": "e38c1c51-29f9-4efa-e127-2e4efc5bb92c"
      },
      "outputs": [
        {
          "data": {
            "text/html": [
              "<img src=\"data:image/png;base64,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\" />"
            ]
          },
          "execution_count": 4,
          "metadata": {},
          "output_type": "execute_result"
        }
      ],
      "source": [
        "//Устанавливаем полученные ранее оптимаоьные значения\n",
        "//k1 5.0\n",
        "//k11 1.0E-4\n",
        "//k2 0.001\n",
        "//k5 6.0E-4\n",
        "//k8 1.0E-4\n",
        "model.setInitialValue(diagram, \"k1\", 5.0);\n",
        "model.setInitialValue(diagram, \"k11\", 1.0E-4);\n",
        "model.setInitialValue(diagram, \"k2\", 0.001);\n",
        "model.setInitialValue(diagram, \"k5\", 6.0E-4);\n",
        "model.setInitialValue(diagram, \"k8\", 1.0E-4);\n",
        "\n",
        "span = se.createSpan(0, 160, 1);\n",
        "var res = se.simulate(diagram, span);\n",
        "pm.createPlot(\"CASP8\", \"time, min\", \"Concentration, mole/l\");\n",
        "pm.addCurve(\"CASP8_model\", result, \"$cell.C8star\", \"time\", pm.createPen(1, \"red\", \"-\"));\n",
        "pm.addExperiment(\"CASP8_exp\", expData, \"casp8\", \"time\", pm.createPen(1, \"blue\", \"-\"));\n",
        "pm.showPlot();"
      ]
    },
    {
      "cell_type": "code",
      "execution_count": null,
      "metadata": {
        "id": "jQQkfFI2EqKM",
        "outputId": "012c5830-8e9c-498e-dd57-9592f1c85664"
      },
      "outputs": [
        {
          "data": {
            "text/html": [
              "<img src=\"data:image/png;base64,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\" />"
            ]
          },
          "execution_count": 5,
          "metadata": {},
          "output_type": "execute_result"
        }
      ],
      "source": [
        "pm.createPlot(\"P43/P41\", \"time, min\", \"Concentration, mole/l\");\n",
        "pm.addCurve(\"P43/P41_model\", result, \"$cell.p43p41\", \"time\", pm.createPen(1, \"red\", \"-\"));\n",
        "pm.addExperiment(\"P43/P41_exp\", expData, \"p43p41\", \"time\", pm.createPen(1, \"blue\", \"-\"));\n",
        "pm.showPlot();\n",
        "//Лучше смотрите через simulation document там графики выглядят лучше."
      ]
    },
    {
      "cell_type": "code",
      "execution_count": null,
      "metadata": {
        "id": "shj9-_SkEqKM",
        "outputId": "9bd9d142-7d28-4855-f08c-87f0de25e24d"
      },
      "outputs": [
        {
          "data": {
            "text/plain": [
              "Code generation...\n",
              "Done. Elapsed time: 0.013883935 seconds\n",
              "Code compilation...\n",
              "Done. Elapsed time: 0.021308642 seconds\n",
              "Simulation...\n",
              "Done. Elapsed time: 0.003730389 seconds\n",
              "Code generation...\n",
              "Done. Elapsed time: 0.008296432 seconds\n",
              "Code compilation...\n",
              "Done. Elapsed time: 0.016216504 seconds\n",
              "Simulation...\n",
              "Done. Elapsed time: 0.003490212 seconds\n",
              "Code generation...\n",
              "Done. Elapsed time: 0.007354035 seconds\n",
              "Code compilation...\n",
              "Done. Elapsed time: 0.015102731 seconds\n",
              "Simulation...\n",
              "Done. Elapsed time: 0.003126541 seconds\n",
              "Code generation...\n",
              "Done. Elapsed time: 0.009124776 seconds\n",
              "Code compilation...\n",
              "Done. Elapsed time: 0.014888885 seconds\n",
              "Simulation...\n",
              "Done. Elapsed time: 0.003124462 seconds\n",
              "Code generation...\n",
              "Done. Elapsed time: 0.007252292 seconds\n",
              "Code compilation...\n",
              "Done. Elapsed time: 0.020472948 seconds\n",
              "Simulation...\n",
              "Done. Elapsed time: 0.003292206 seconds\n",
              "Code generation...\n",
              "Done. Elapsed time: 0.008644643 seconds\n",
              "Code compilation...\n",
              "Done. Elapsed time: 0.015037479 seconds\n",
              "Simulation...\n",
              "Done. Elapsed time: 0.003211904 seconds\n",
              "Code generation...\n",
              "Done. Elapsed time: 0.013212086 seconds\n",
              "Code compilation...\n",
              "Done. Elapsed time: 0.014336579 seconds\n",
              "Simulation...\n",
              "Done. Elapsed time: 0.003193714 seconds\n",
              "Code generation...\n",
              "Done. Elapsed time: 0.0075507 seconds\n",
              "Code compilation...\n",
              "Done. Elapsed time: 0.01473988 seconds\n",
              "Simulation...\n",
              "Done. Elapsed time: 0.002977247 seconds\n",
              "Code generation...\n",
              "Done. Elapsed time: 0.012077743 seconds\n",
              "Code compilation...\n",
              "Done. Elapsed time: 0.014576935 seconds\n",
              "Simulation...\n",
              "Done. Elapsed time: 0.002892824 seconds\n",
              "Code generation...\n",
              "Done. Elapsed time: 0.008084916 seconds\n",
              "Code compilation...\n",
              "Done. Elapsed time: 0.01439341 seconds\n",
              "Simulation...\n",
              "Done. Elapsed time: 0.003200473 seconds\n"
            ]
          },
          "execution_count": 8,
          "metadata": {},
          "output_type": "execute_result"
        }
      ],
      "source": [
        "span = se.createSpan(0, 150, 5);\n",
        "\n",
        "//Наиболее влиятельные параметры на casp8\n",
        "var k8_lowerBoundary = 6E-4;\n",
        "var k8_upperBoundary = 8E-4;\n",
        "\n",
        "var k2_lowerBoundary = 1E-3;\n",
        "var k2_upperBoundary = 2E-2;\n",
        "\n",
        "var RMSEs = [];\n",
        "var k8s = [];\n",
        "var k2s = [];\n",
        "\n",
        "var RMSEs = [\"RMSE\"];\n",
        "var k8s = [\"k8\"];\n",
        "var k2s = [\"k2\"];\n",
        "for (i=0; i<10; i++){\n",
        "    var k8 = k8_lowerBoundary + (k8_upperBoundary - k8_lowerBoundary) * java.lang.Math.random();\n",
        "    k8s[i+1] = k8;\n",
        "    var k2 = k2_lowerBoundary + (k2_upperBoundary - k2_lowerBoundary) * java.lang.Math.random();\n",
        "    k2s[i+1] = k2;\n",
        "\n",
        "    model.setInitialValue(diagram, \"k8\", k8);\n",
        "    model.setInitialValue(diagram, \"k2\", k2);\n",
        "\n",
        "    var result = se.simulate(diagram, span);\n",
        "    var vals = result.getValues(\"$cell.C8star\");\n",
        "\n",
        "    var squareSums = 0.0;\n",
        "    var n = 0;\n",
        "    for(j=0.0; j<125.0; j+=5.0){\n",
        "        var index_time = time_exp.indexOf(j);\n",
        "        if(index_time > -1){\n",
        "            var exp_val = casp8_exp[index_time];\n",
        "            var mod_val = vals[index_time];\n",
        "\n",
        "            squareSums += java.lang.Math.abs(java.lang.Math.pow(mod_val, 2) - java.lang.Math.pow(exp_val, 2));\n",
        "            n += 1;\n",
        "        }\n",
        "    }\n",
        "\n",
        "    RMSEs[i+1] = java.lang.Math.sqrt(squareSums / n);\n",
        "    //RMSEs.push(java.lang.Math.sqrt(squareSums / n));\n",
        "}"
      ]
    },
    {
      "cell_type": "code",
      "execution_count": null,
      "metadata": {
        "id": "FdCtbgFQEqKM",
        "outputId": "5f48f859-df50-4110-c46b-1dd63b1a8d61"
      },
      "outputs": [
        {
          "data": {
            "text/html": [
              "<table border = 0><tr><td style='text-align: center'>k8</td><td style='text-align: center'>7.342703083095834E-4</td><td style='text-align: center'>7.018288404473493E-4</td><td style='text-align: center'>7.632044506228292E-4</td><td style='text-align: center'>7.816080117351385E-4</td><td style='text-align: center'>6.325700562650742E-4</td><td style='text-align: center'>6.876335536433907E-4</td><td style='text-align: center'>6.95014369470407E-4</td><td style='text-align: center'>7.217733917347635E-4</td><td style='text-align: center'>7.014151834774663E-4</td><td style='text-align: center'>7.799376073645582E-4</td></tr><tr><td style='text-align: center'>k2</td><td style='text-align: center'>0.017635808089809208</td><td style='text-align: center'>0.013130941858109823</td><td style='text-align: center'>0.017321306053877165</td><td style='text-align: center'>0.012744776015967973</td><td style='text-align: center'>0.010073700166840775</td><td style='text-align: center'>0.01261818453014146</td><td style='text-align: center'>0.0057506437307510445</td><td style='text-align: center'>0.01783392450025247</td><td style='text-align: center'>0.0025127239542667434</td><td style='text-align: center'>0.006892471114653928</td></tr><tr><td style='text-align: center'>RMSE</td><td style='text-align: center'>3.1117044759560324</td><td style='text-align: center'>3.1092345682757916</td><td style='text-align: center'>3.1114560368125503</td><td style='text-align: center'>3.107847589569391</td><td style='text-align: center'>3.1056040497223316</td><td style='text-align: center'>3.108846946234762</td><td style='text-align: center'>3.072264719811094</td><td style='text-align: center'>3.1118231626368766</td><td style='text-align: center'>2.9028445888346504</td><td style='text-align: center'>3.0817036986427757</td></tr></table>"
            ]
          },
          "execution_count": 9,
          "metadata": {},
          "output_type": "execute_result"
        }
      ],
      "source": [
        "var htmlTable = html.createTable();\n",
        "htmlTable.addRow(k8s);\n",
        "htmlTable.addRow(k2s);\n",
        "htmlTable.addRow(RMSEs);\n",
        "\n",
        "htmlTable.out();"
      ]
    },
    {
      "cell_type": "code",
      "execution_count": null,
      "metadata": {
        "id": "D94KazcGEqKN"
      },
      "outputs": [],
      "source": [
        "//При данных диапазонах k8 [6E-4, 8E-4] и k2 [1E-3, 2E-2] RMSE находиться в приемлимы значениях, а значит данные диапазоны подходят для воспроизведения эксперементальных данных."
      ]
    }
  ],
  "metadata": {
    "kernelspec": {
      "display_name": "JS_BioUML",
      "language": "JS",
      "name": "js_biouml"
    },
    "language_info": {
      "codemirror_mode": "javascript",
      "file_extension": ".js",
      "mimetype": "text/javascript",
      "name": "ECMAScript",
      "nbconverter_exporter": "",
      "version": "ECMA - 262 Edition 5.1"
    },
    "toc": {
      "base_numbering": 1,
      "nav_menu": {},
      "number_sections": false,
      "sideBar": false,
      "skip_h1_title": false,
      "title_cell": "Table of Contents",
      "title_sidebar": "Contents",
      "toc_cell": false,
      "toc_position": {},
      "toc_section_display": false,
      "toc_window_display": false
    },
    "colab": {
      "provenance": []
    }
  },
  "nbformat": 4,
  "nbformat_minor": 0
}